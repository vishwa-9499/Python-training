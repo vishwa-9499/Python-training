{
 "cells": [
  {
   "cell_type": "code",
   "execution_count": 1,
   "metadata": {},
   "outputs": [
    {
     "name": "stdin",
     "output_type": "stream",
     "text": [
      "Enter the number of hours:  5\n"
     ]
    },
    {
     "name": "stdout",
     "output_type": "stream",
     "text": [
      "5.0 hour(s) equals 300.0 minute(s).\n"
     ]
    }
   ],
   "source": [
    "# Write a program to hours to minutes , user should able to give hours as input\n",
    "\n",
    "# your Answer\n",
    "\n",
    "hours = float(input(\"Enter the number of hours: \"))\n",
    "\n",
    "# Convert hours to minutes\n",
    "minutes = hours * 60\n",
    "\n",
    "# Display the result\n",
    "print(f\"{hours} hour(s) equals {minutes} minute(s).\")\n"
   ]
  },
  {
   "cell_type": "code",
   "execution_count": 1,
   "metadata": {},
   "outputs": [
    {
     "name": "stdout",
     "output_type": "stream",
     "text": [
      "Enter the centerimeter : 100\n",
      "The meter for above equivalent centimeter is  1.0\n"
     ]
    }
   ],
   "source": [
    "# Write a program to convert centimeter to meter , user shoulb be able to give centimeter as input\n",
    "\n",
    "# your Answer\n",
    "\n",
    "centimeters = float(input(\"Enter the centimeter: \"))\n",
    "\n",
    "# Convert centimeters to meters\n",
    "meters = centimeters / 100\n",
    "\n",
    "# Display the result\n",
    "print(f\"The meter for above equivalent centimeter is {meters}\")\n",
    "\n"
   ]
  },
  {
   "cell_type": "code",
   "execution_count": 2,
   "metadata": {},
   "outputs": [
    {
     "name": "stdout",
     "output_type": "stream",
     "text": [
      "Ente the miles10\n",
      "The equivalent kilometer for miles is   16.0\n"
     ]
    }
   ],
   "source": [
    "# Write a program to convert miles to Kilometer , user shoulb be able to give miles as input\n",
    "\n",
    "# your Answer\n",
    "\n",
    "miles = float(input(\"Enter the miles: \"))\n",
    "\n",
    "# Convert miles to kilometers\n",
    "kilometers = miles * 1.6\n",
    "\n",
    "# Display the result\n",
    "print(f\"The equivalent kilometer for miles is {kilometers}\")\n",
    "\n",
    "\n",
    "\n",
    "\n"
   ]
  },
  {
   "cell_type": "code",
   "execution_count": 4,
   "metadata": {},
   "outputs": [],
   "source": [
    "# Write a program to convert pounds to Kilogram , user shoulb be able to give pounds as input\n",
    "\n",
    "# your Answer\n",
    "\n",
    "\n",
    "pounds = float(input(\"Enter the pounds: \"))\n",
    "\n",
    "# Convert pounds to kilograms\n",
    "kilograms = pounds * 0.453592\n",
    "\n",
    "# Display the result\n",
    "print(f\"{pounds} pound(s) is equivalent to {kilograms} kilogram(s).\")\n",
    "\n",
    "\n"
   ]
  },
  {
   "cell_type": "code",
   "execution_count": 2,
   "metadata": {},
   "outputs": [
    {
     "name": "stdin",
     "output_type": "stream",
     "text": [
      "Enter the principal amount:  100000\n",
      "Enter the rate of interest (in % per annum):  10\n",
      "Enter the time (in years):  2\n"
     ]
    },
    {
     "name": "stdout",
     "output_type": "stream",
     "text": [
      "The simple interest is: 20000.0\n"
     ]
    }
   ],
   "source": [
    "# Write a program to calculate simple interest # all input shoulb be given by the user\n",
    "\n",
    "# your Answer\n",
    "\n",
    "\n",
    "principal = float(input(\"Enter the principal amount: \"))\n",
    "\n",
    "# Prompt the user to enter the rate of interest (per annum)\n",
    "rate = float(input(\"Enter the rate of interest (in % per annum): \"))\n",
    "\n",
    "# Prompt the user to enter the time period in years\n",
    "time = float(input(\"Enter the time (in years): \"))\n",
    "\n",
    "# Calculate simple interest\n",
    "simple_interest = (principal * rate * time) / 100\n",
    "\n",
    "# Display the result\n",
    "print(f\"The simple interest is: {simple_interest}\")\n",
    "\n",
    "\n"
   ]
  },
  {
   "cell_type": "code",
   "execution_count": 3,
   "metadata": {},
   "outputs": [
    {
     "name": "stdin",
     "output_type": "stream",
     "text": [
      "Enter the radius of the circle:  24\n"
     ]
    },
    {
     "name": "stdout",
     "output_type": "stream",
     "text": [
      "The area of the circle with radius 24.0 is 1809.56\n"
     ]
    }
   ],
   "source": [
    "# Write a program to calculate area of circle\n",
    "\n",
    "# your Answer\n",
    "\n",
    "\n",
    "import math\n",
    "\n",
    "\n",
    "radius = float(input(\"Enter the radius of the circle: \"))\n",
    "\n",
    "# Calculate the area of the circle\n",
    "area = math.pi * radius ** 2\n",
    "\n",
    "# Display the result\n",
    "print(f\"The area of the circle with radius {radius} is {area:.2f}\")\n",
    "\n",
    "\n"
   ]
  },
  {
   "cell_type": "code",
   "execution_count": 7,
   "metadata": {},
   "outputs": [],
   "source": [
    "# Write a program to calculate circumference of circle\n",
    "\n",
    "# your Answer\n",
    "\n",
    "\n",
    "import math\n",
    "\n",
    "radius = float(input(\"Enter the radius of the circle: \"))\n",
    "\n",
    "# Calculate the circumference of the circle\n",
    "circumference = 2 * math.pi * radius\n",
    "\n",
    "# Display the result\n",
    "print(f\"The circumference of the circle with radius {radius} is {circumference:.2f}\")\n",
    "\n",
    "\n",
    "\n"
   ]
  },
  {
   "cell_type": "code",
   "execution_count": 8,
   "metadata": {},
   "outputs": [],
   "source": [
    "# Write a program to calculate perimeter of square\n",
    "\n",
    "# your Answer\n",
    "\n",
    "\n",
    "side = float(input(\"Enter the length of the side of the square: \"))\n",
    "\n",
    "# Calculate the perimeter of the square\n",
    "perimeter = 4 * side\n",
    "\n",
    "# Display the result\n",
    "print(f\"The perimeter of the square with side {side} is {perimeter}\")\n",
    "\n",
    "\n"
   ]
  },
  {
   "cell_type": "code",
   "execution_count": 10,
   "metadata": {},
   "outputs": [],
   "source": [
    "# Write a program to calculate area of square\n",
    "\n",
    "# your Answer\n",
    "\n",
    "\n",
    "side = float(input(\"Enter the length of the side of the square: \"))\n",
    "\n",
    "# Calculate the area of the square\n",
    "area = side ** 2\n",
    "\n",
    "# Display the result\n",
    "print(f\"The area of the square with side {side} is {area}\")\n",
    "\n",
    "\n"
   ]
  },
  {
   "cell_type": "code",
   "execution_count": null,
   "metadata": {},
   "outputs": [],
   "source": [
    "# Write a program to area of traingle\n",
    "\n",
    "# your Answer\n",
    "\n",
    "base = float(input(\"Enter the base of the triangle: \"))\n",
    "\n",
    "# Prompt the user to enter the height of the triangle\n",
    "height = float(input(\"Enter the height of the triangle: \"))\n",
    "\n",
    "# Calculate the area of the triangle\n",
    "area = 0.5 * base * height\n",
    "\n",
    "# Display the result\n",
    "print(f\"The area of the triangle with base {base} and height {height} is {area}\")\n",
    "\n",
    "\n"
   ]
  }
 ],
 "metadata": {
  "kernelspec": {
   "display_name": "Python 3 (ipykernel)",
   "language": "python",
   "name": "python3"
  },
  "language_info": {
   "codemirror_mode": {
    "name": "ipython",
    "version": 3
   },
   "file_extension": ".py",
   "mimetype": "text/x-python",
   "name": "python",
   "nbconvert_exporter": "python",
   "pygments_lexer": "ipython3",
   "version": "3.12.7"
  }
 },
 "nbformat": 4,
 "nbformat_minor": 4
}
